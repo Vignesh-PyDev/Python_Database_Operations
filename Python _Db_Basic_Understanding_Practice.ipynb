{
 "cells": [
  {
   "cell_type": "markdown",
   "metadata": {},
   "source": [
    "# Python _MySQL Crud Operation."
   ]
  },
  {
   "cell_type": "markdown",
   "metadata": {},
   "source": [
    "## Things to know Before Getting into the coding."
   ]
  },
  {
   "cell_type": "markdown",
   "metadata": {},
   "source": [
    "## What is Database?\n",
    "\n",
    "A database is an organized collection of structured information, or data, typically stored electronically in a computer system. A database is usually controlled by a database management system (DBMS). Together, the data and the DBMS, along with the applications that are associated with them, are referred to as a database system, often shortened to just database."
   ]
  },
  {
   "cell_type": "markdown",
   "metadata": {},
   "source": [
    "## What is Structured Query Language (SQL)?\n",
    "\n",
    "SQL is a programming language used by nearly all relational databases to query, manipulate, and define data, and to provide access control. \n"
   ]
  },
  {
   "cell_type": "markdown",
   "metadata": {},
   "source": [
    "## What is a Database Driver/Connector ?\n",
    "\n",
    "Connector/Driver enables programs to access databases."
   ]
  },
  {
   "cell_type": "markdown",
   "metadata": {},
   "source": [
    "## What is pip?\n",
    "\n",
    "pip is the standard package manager for Python. It allows you to install and manage additional packages that are not part of the Python standard library.\n",
    "\n",
    "Using pip We Can Install the Required Drivers/connectors to access Database."
   ]
  },
  {
   "cell_type": "markdown",
   "metadata": {},
   "source": [
    "## What is Cursor?\n",
    "\n",
    "Cursor,It Helps Python to Interact with the MySQL Server.An instance of the MySQLCursor class is also called a cursor."
   ]
  },
  {
   "cell_type": "code",
   "execution_count": null,
   "metadata": {},
   "outputs": [],
   "source": [
    "pip install mysql-connector-python"
   ]
  },
  {
   "cell_type": "markdown",
   "metadata": {},
   "source": [
    "# Connecting Database (MySQL) from Python."
   ]
  },
  {
   "cell_type": "code",
   "execution_count": null,
   "metadata": {},
   "outputs": [],
   "source": [
    "# Before Connecting Check \n",
    "\n",
    "# Database Software is Installed.\n",
    "# Wheather appropriate Connectors/Drivers are Installed.\n",
    "# Database Server Running are !.\n",
    "# Authentication Method Used at Database Server Side(i.e naive password,sha256.,).\n",
    "# Valid Server Address and Port no.(IP_Add:Port_No) to Establish Connection.\n",
    "# A Valid UserName/Password to Access Database."
   ]
  },
  {
   "attachments": {
    "mysql_database_connection_in_python.png": {
     "image/png": "[encoded data removed]"
    }
   },
   "cell_type": "markdown",
   "metadata": {},
   "source": [
    "![mysql_database_connection_in_python.png](attachment:mysql_database_connection_in_python.png)"
   ]
  },
  {
   "cell_type": "markdown",
   "metadata": {},
   "source": [
    "## import Required Connectors:"
   ]
  },
  {
   "cell_type": "code",
   "execution_count": 6,
   "metadata": {},
   "outputs": [],
   "source": [
    "from mysql.connector import connect,Error,errorcode"
   ]
  },
  {
   "cell_type": "markdown",
   "metadata": {},
   "source": [
    "## Establishing a Connection Using Connection String.\n",
    "\n",
    "    Method #1:  Using try/with block\n",
    "\n",
    "    Method #2:  Using Connection Object."
   ]
  },
  {
   "cell_type": "code",
   "execution_count": null,
   "metadata": {},
   "outputs": [],
   "source": [
    "#     Method #1:  Using try block\n",
    "\n",
    "from getpass import getpass\n",
    "\n",
    "try:\n",
    "    with connect( \n",
    "        \n",
    "    host = \"localhost\",\n",
    "        \n",
    "    port = \"3306\",\n",
    "        \n",
    "    user = 'Py_MySQL_User',\n",
    "        \n",
    "    password = getpass(\"Enter Password\"),\n",
    "        \n",
    "    database=\"classicmodels\",    \n",
    "        \n",
    "    auth_plugin = \"mysql_native_password\"\n",
    "        \n",
    "    ) as Python_MySQL_Conn_try:\n",
    "        print(Python_MySQL_Conn_try)\n",
    "except Error as  Python_MySQL_Conn_Err:\n",
    "    if Python_MySQL_Conn_Err.errno == errorcode.ER_ACCESS_DENIED_ERROR:\n",
    "        \n",
    "        print(\"Invalid UserName Password\")\n",
    "        \n",
    "    elif Python_MySQL_Conn_Err.errno == errorcode.ER_BAD_DB_ERROR:\n",
    "        \n",
    "        print(\"Database does not exist\")"
   ]
  },
  {
   "cell_type": "code",
   "execution_count": null,
   "metadata": {},
   "outputs": [],
   "source": [
    "Python_MySQL_Conn = connect(\n",
    "    \n",
    "    host = \"localhost\",\n",
    "        \n",
    "    port = \"3306\",\n",
    "        \n",
    "    user = 'Py_MySQL_User',\n",
    "        \n",
    "    password = getpass(\"Enter Password\"),\n",
    "        \n",
    "    database=\"classicmodels\",    \n",
    "        \n",
    "    auth_plugin = \"mysql_native_password\"\n",
    "        \n",
    "    )\n",
    "    \n",
    "Python_MySQL_Conn"
   ]
  },
  {
   "cell_type": "code",
   "execution_count": 7,
   "metadata": {},
   "outputs": [],
   "source": [
    "Conn_String = {\n",
    "                    \"host\":\"localhost\",\n",
    "\n",
    "                    \"port\" : \"3306\",\n",
    "\n",
    "                    \"user\" : 'Py_MySQL_User',\n",
    "\n",
    "                    \"password\" : 'rootUser',\n",
    "\n",
    "#                     'database':\"classicmodels\",    \n",
    "\n",
    "                    'auth_plugin' : \"mysql_native_password\"\n",
    "                }\n",
    "\n",
    "Python_MySQL_Conn = connect(**Conn_String)"
   ]
  },
  {
   "cell_type": "markdown",
   "metadata": {},
   "source": [
    "The Above code is now able to establish a connection to Mysql Server from Python.In that code,\n",
    "\n",
    "host  -->It takes a IP_Address as a Value.It tells Where the actual Mysql Server is running which is going to be accessed.\n",
    "\n",
    "port  -->A port is a virtual point where network connections start and end.Ports are software-based and managed by a computer's operating system. Each port is associated with a specific process or service.Here Mysql Server is running on port #3306(Default).\n",
    "\n",
    "user  -->The Actual Mysql Username to Gain Access to Server.\n",
    "\n",
    "password  -->The Actual Mysql Password to Gain Access to Server.\n",
    "\n",
    "database  -->The Actual Mysql Database Name which is going to be Accessed.(Optional)\n",
    "\n",
    "auth_plugin  -->Authentication Method Used to Secure Database from anonymous access.[mysql_native_password|caching_sha2_password]"
   ]
  },
  {
   "cell_type": "code",
   "execution_count": 8,
   "metadata": {},
   "outputs": [],
   "source": [
    "# The Connection to the Database is Now established.\n",
    "# From Here I am Going to Perform the Below Operation From Python.\n",
    "# Create User and Privileges Granting.\n",
    "# Create Database.\n",
    "# Perform DDL/DML Operations. "
   ]
  },
  {
   "cell_type": "code",
   "execution_count": 44,
   "metadata": {},
   "outputs": [
    {
     "name": "stdout",
     "output_type": "stream",
     "text": [
      "Connected\n"
     ]
    }
   ],
   "source": [
    "# Lets Check Whether Server Connected or ! .\n",
    "if Python_MySQL_Conn:\n",
    "    print(\"Connected\")\n",
    "    Python_MySQL_Conn.reset_session()"
   ]
  },
  {
   "cell_type": "markdown",
   "metadata": {},
   "source": [
    "# Creating User,Granting Access,Removing User from Python"
   ]
  },
  {
   "cell_type": "code",
   "execution_count": 45,
   "metadata": {},
   "outputs": [],
   "source": [
    "# We Need an Intermediate to Perform Database Operations.\n",
    "# Here cursor Comes in action to act as an Intermediate between Python and Database Server.\n",
    "# to Create a cursor object We need an Active Database Connection.\n",
    "\n",
    "# Actual Syntax:\n",
    "\n",
    "# Cursor_Name = Connection_Object.cursor()\n",
    "\n",
    "# In Our Case:\n",
    "\n",
    "Python_MySQL_Conn_Cursor = Python_MySQL_Conn.cursor()"
   ]
  },
  {
   "cell_type": "code",
   "execution_count": 46,
   "metadata": {},
   "outputs": [],
   "source": [
    "# Create User:\n",
    "\n",
    "# MySQL Query to Create New User.\n",
    "\n",
    "MySQL_Query_Create_New_User = \"CREATE USER IF NOT EXISTS 'User_Created_From_Python_15'@'localhost' IDENTIFIED BY 'root'\"\n",
    "\n",
    "# Now Using execute() Cursor Fn to Execute the Above Query.\n",
    "\n",
    "try:\n",
    "    Python_MySQL_Conn_Cursor.execute(MySQL_Query_Create_New_User)\n",
    "        \n",
    "except Error as MySQL_Query_Create_New_User_Execute:\n",
    "    print(MySQL_Query_Create_New_User_Execute)"
   ]
  },
  {
   "cell_type": "code",
   "execution_count": 47,
   "metadata": {},
   "outputs": [
    {
     "name": "stdout",
     "output_type": "stream",
     "text": [
      "[('Py_MySQL_User',), ('User_Created_From_Python_15',), ('debian-sys-maint',), ('mysql.infoschema',), ('mysql.session',), ('mysql.sys',), ('phpmyadmin',), ('root',)]\n"
     ]
    }
   ],
   "source": [
    "# SELECT user FROM mysql.user where user = \"User_Created_From_Python\";\n",
    "# Python_MySQL_Conn_Cursor.execute(\"SELECT user FROM mysql.user\")\n",
    "\n",
    "MySQL_Query_Get_All_Users = \"SELECT user FROM mysql.user\"\n",
    "Python_MySQL_Conn_Cursor.execute(MySQL_Query_Get_All_Users)\n",
    "\n",
    "print(Python_MySQL_Conn_Cursor.fetchall())"
   ]
  },
  {
   "cell_type": "code",
   "execution_count": null,
   "metadata": {},
   "outputs": [],
   "source": [
    "# MySQL Query to Grant Privileges.\n",
    "\n",
    "# MySQL Syntax_To_Grant Permissions\n",
    "\n",
    "# GRANT <type_of_permission> ON <database_name.table_name> TO <'username'>@<'localhost'>;\n",
    "\n",
    "# ALL PRIVILEGES- as we saw previously, this would allow a MySQL user full access to a designated database (or if no database is selected, global access across the system)\n",
    "# CREATE- allows them to create new tables or databases\n",
    "# DROP- allows them to them to delete tables or databases\n",
    "# DELETE- allows them to delete rows from tables\n",
    "# INSERT- allows them to insert rows into tables\n",
    "# SELECT- allows them to use the SELECT command to read through databases\n",
    "# UPDATE- allow them to update table rows\n",
    "# GRANT OPTION- allows them to grant or remove other users’ privileges\n",
    "\n",
    "Python_MySQL_Conn.reset_session()\n",
    "\n",
    "MySQL_Query_Grant_Access = \"GRANT ALL ON *.* TO 'User_Created_From_Python_1'@'localhost'\"\n",
    "\n",
    "# Above Query Gives All Access to Our Created User User_Created_From_Python_1.\n",
    "\n",
    "try:\n",
    "    Python_MySQL_Conn_Cursor.execute(MySQL_Query_Grant_Access)\n",
    "    \n",
    "except Error as MySQL_Query_Grant_Access_Execute:\n",
    "    print(MySQL_Query_Grant_Access_Execute)"
   ]
  },
  {
   "cell_type": "code",
   "execution_count": null,
   "metadata": {},
   "outputs": [],
   "source": [
    "# MySQL Query to View Privileges.\n",
    "\n",
    "# MySQL Syntax_To_View Granted Permissions\n",
    "\n",
    "# SHOW GRANTS FOR  <'username'>@<'localhost'>;\n",
    "\n",
    "MySQL_Query_View_Access = \"SHOW GRANTS FOR 'User_Created_From_Python_1'@'localhost'\"\n",
    "\n",
    "Python_MySQL_Conn_Cursor.execute(MySQL_Query_View_Access)\n",
    "\n",
    "Result_Set_Permission = Python_MySQL_Conn_Cursor.fetchall()\n",
    "\n",
    "print(Result_Set_Permission)"
   ]
  },
  {
   "cell_type": "code",
   "execution_count": 50,
   "metadata": {},
   "outputs": [],
   "source": [
    "# MySQL Query to Delete/Remove/Drop User.\n",
    "\n",
    "# MySQL Syntax_To_Delete/Remove/Drop User.\n",
    "\n",
    "# DROP USER <User_Name>;\n",
    "\n",
    "MySQL_Query_Drop_User = \"DROP USER IF EXISTS 'User_Created_From_Python_1'@'localhost'\"\n",
    "\n",
    "Python_MySQL_Conn_Cursor.execute(MySQL_Query_Drop_User)\n"
   ]
  },
  {
   "cell_type": "code",
   "execution_count": 51,
   "metadata": {},
   "outputs": [
    {
     "name": "stdout",
     "output_type": "stream",
     "text": [
      "[('Py_MySQL_User',), ('User_Created_From_Python_15',), ('debian-sys-maint',), ('mysql.infoschema',), ('mysql.session',), ('mysql.sys',), ('phpmyadmin',), ('root',)]\n"
     ]
    }
   ],
   "source": [
    "# SELECT user FROM mysql.user where user = \"User_Created_From_Python\";\n",
    "# Python_MySQL_Conn_Cursor.execute(\"SELECT user FROM mysql.user\")\n",
    "\n",
    "MySQL_Query_Get_All_Users = \"SELECT user FROM mysql.user\"\n",
    "\n",
    "Python_MySQL_Conn_Cursor.execute(MySQL_Query_Get_All_Users)\n",
    "\n",
    "result = Python_MySQL_Conn_Cursor.fetchall()\n",
    "\n",
    "print(result)"
   ]
  },
  {
   "cell_type": "markdown",
   "metadata": {},
   "source": [
    "# Create/Drop Database."
   ]
  },
  {
   "cell_type": "code",
   "execution_count": 52,
   "metadata": {},
   "outputs": [],
   "source": [
    "# MySQL Query to Create Database.\n",
    "\n",
    "# MySQL Syntax_To_Create_Database.\n",
    "\n",
    "# CREATE <DATABASE> IF NOT EXISTS <Database_Name>;\n",
    "\n",
    "# IF NOT EXISTS is used it creates only if given name does not conflict with an existing database's name.If ! it throws an error. \n",
    "\n",
    "MySQL_Query_Create_Database = \"CREATE DATABASE IF NOT EXISTS Library_DataBase\"\n",
    "\n",
    "Python_MySQL_Conn_Cursor.execute(MySQL_Query_Create_Database)"
   ]
  },
  {
   "cell_type": "code",
   "execution_count": 53,
   "metadata": {},
   "outputs": [
    {
     "name": "stdout",
     "output_type": "stream",
     "text": [
      "[('Library_DataBase',), ('classicmodels',), ('flask_db',), ('information_schema',), ('my_first_db',), ('mysql',), ('performance_schema',), ('phpmyadmin',), ('sakila',), ('sys',), ('tempk',), ('world',), ('world_x',)]\n"
     ]
    }
   ],
   "source": [
    "# MySQL Query to list Available Databases.\n",
    "\n",
    "# MySQL Syntax_To_View_Available_Databases.\n",
    "\n",
    "# SHOW DATABASES;\n",
    "\n",
    "MySQL_Query_Show_Database = \"SHOW DATABASES\"\n",
    "\n",
    "Python_MySQL_Conn_Cursor.execute(MySQL_Query_Show_Database)\n",
    "\n",
    "print(Python_MySQL_Conn_Cursor.fetchall())    "
   ]
  },
  {
   "cell_type": "code",
   "execution_count": 54,
   "metadata": {},
   "outputs": [],
   "source": [
    "# MySQL Query to Drop Database.\n",
    "\n",
    "# MySQL Syntax_To_Drop_Database.\n",
    "\n",
    "# DROP DATABASE DATABASE_NAME;\n",
    "\n",
    "MySQL_Query_Drop_Database = \"DROP DATABASE IF EXISTS DATABASE_CREATED_FROM_PYTHON\"\n",
    "\n",
    "Python_MySQL_Conn_Cursor.execute(MySQL_Query_Drop_Database)"
   ]
  },
  {
   "cell_type": "code",
   "execution_count": 55,
   "metadata": {},
   "outputs": [
    {
     "name": "stdout",
     "output_type": "stream",
     "text": [
      "[('Library_DataBase',), ('classicmodels',), ('flask_db',), ('information_schema',), ('my_first_db',), ('mysql',), ('performance_schema',), ('phpmyadmin',), ('sakila',), ('sys',), ('tempk',), ('world',), ('world_x',)]\n"
     ]
    }
   ],
   "source": [
    "MySQL_Query_Show_Database = \"SHOW DATABASES\"\n",
    "\n",
    "Python_MySQL_Conn_Cursor.execute(MySQL_Query_Show_Database)\n",
    "\n",
    "print(Python_MySQL_Conn_Cursor.fetchall())   "
   ]
  },
  {
   "cell_type": "code",
   "execution_count": 56,
   "metadata": {},
   "outputs": [],
   "source": [
    "# Once Database is Created We Need To Use it By Using 'use' Command.\n",
    "\n",
    "# MySQL Syntax_To_Use_Database.\n",
    "\n",
    "# USE DATABASE_NAME;\n",
    "\n",
    "MySQL_Query_Use_Database = \"USE Library_DataBase\"\n",
    "\n",
    "Python_MySQL_Conn_Cursor.execute(MySQL_Query_Use_Database)"
   ]
  },
  {
   "cell_type": "markdown",
   "metadata": {},
   "source": [
    "# Create/Drop Table.\n",
    "\n",
    "Here We are Going to Perform Create/Alter Table and its Attributes (i.e Columns)."
   ]
  },
  {
   "cell_type": "code",
   "execution_count": 83,
   "metadata": {},
   "outputs": [],
   "source": [
    "# MySQL Query to Create Table.\n",
    "\n",
    "# MySQL Syntax_To_Create_Table.\n",
    "\n",
    "# CREATE  TABLE [IF NOT EXISTS] <TableName> (Column#1 <dataType>,Column#2 <dataType>,Column#n <dataType>;\n",
    "\n",
    "MySQL_Query_Create_Table = \"CREATE TABLE IF NOT EXISTS Table_Created_From_Python_3(Book_Id int,Book_Name varchar(30),Book_Edition varchar(30),Book_Author varchar(30),No_Of_Copies int,is_Available boolean,Book_Dept varchar(30),Book_ISBN varchar(30))\"\n",
    "\n",
    "Python_MySQL_Conn_Cursor.execute(MySQL_Query_Create_Table)\n"
   ]
  },
  {
   "cell_type": "code",
   "execution_count": 84,
   "metadata": {},
   "outputs": [
    {
     "name": "stdout",
     "output_type": "stream",
     "text": [
      "[('Table_Created_From_Python_1',), ('Table_Created_From_Python_3',), ('Table_Renamed_From_Python',)]\n"
     ]
    }
   ],
   "source": [
    "# MySQL Query to list Available Tables.\n",
    "\n",
    "# MySQL Syntax_To_View_Available_Tables.\n",
    "\n",
    "# SHOW TABLES;\n",
    "\n",
    "MySQL_Query_Show_Table = \"SHOW TABLES\"\n",
    "\n",
    "Python_MySQL_Conn_Cursor.execute(MySQL_Query_Show_Table)\n",
    "\n",
    "print(Python_MySQL_Conn_Cursor.fetchall())    "
   ]
  },
  {
   "cell_type": "code",
   "execution_count": 59,
   "metadata": {},
   "outputs": [
    {
     "name": "stdout",
     "output_type": "stream",
     "text": [
      "[('Book_Id', b'int', 'YES', '', None, ''), ('Book_Name', b'varchar(30)', 'YES', '', None, ''), ('Book_Edition', b'varchar(30)', 'YES', '', None, ''), ('Book_Author', b'varchar(30)', 'YES', '', None, ''), ('No_Of_Copies', b'int', 'YES', '', None, ''), ('is_Available', b'tinyint(1)', 'YES', '', None, ''), ('Book_Dept', b'varchar(30)', 'YES', '', None, ''), ('Book_ISBN', b'varchar(30)', 'YES', '', None, '')]\n"
     ]
    }
   ],
   "source": [
    "# MySQL Query to View Table Structure.\n",
    "\n",
    "# MySQL Syntax_To_View_Table_Structure.\n",
    "\n",
    "# DESC <TableName>;\n",
    "\n",
    "MySQL_Query_Describe_Table = \"DESC Table_Created_From_Python\"\n",
    "Python_MySQL_Conn_Cursor.execute(MySQL_Query_Describe_Table)\n",
    "print(Python_MySQL_Conn_Cursor.fetchall()) "
   ]
  },
  {
   "cell_type": "code",
   "execution_count": 85,
   "metadata": {},
   "outputs": [
    {
     "name": "stdout",
     "output_type": "stream",
     "text": [
      "[('Table_Created_From_Python_1',), ('Table_Renamed_From_Python',)]\n"
     ]
    }
   ],
   "source": [
    "# MySQL Query to Drop/Delete/Remove Table.\n",
    "\n",
    "# MySQL Syntax_To_Drop_Table.\n",
    "\n",
    "# DROP TABLE [IF EXISTS] <TableName>;\n",
    "\n",
    "MySQL_Query_Drop_Table = \"DROP TABLE IF EXISTS Table_Created_From_Python_3\"\n",
    "\n",
    "Python_MySQL_Conn_Cursor.execute(MySQL_Query_Drop_Table)\n",
    "\n",
    "MySQL_Query_Show_Table = \"SHOW TABLES\"\n",
    "\n",
    "Python_MySQL_Conn_Cursor.execute(MySQL_Query_Show_Table)\n",
    "\n",
    "print(Python_MySQL_Conn_Cursor.fetchall())"
   ]
  },
  {
   "cell_type": "markdown",
   "metadata": {},
   "source": [
    "# Table ALTER Operations."
   ]
  },
  {
   "cell_type": "code",
   "execution_count": 60,
   "metadata": {},
   "outputs": [],
   "source": [
    "# Tables are now created.Now We Gonna Perform Some Table Operations Using ALTER Command.\n",
    "\n",
    "# --> Alter/Change Column Datatype.\n",
    "\n",
    "# --> Alter/Change Column Datatype Size.\n",
    "\n",
    "# --> Alter/Change Table/Column Name.\n",
    "\n",
    "# --> Add a New Column.\n",
    "\n",
    "# --> Drop Column."
   ]
  },
  {
   "cell_type": "code",
   "execution_count": 61,
   "metadata": {},
   "outputs": [
    {
     "name": "stdout",
     "output_type": "stream",
     "text": [
      "[('Book_Id', b'varchar(10)', 'YES', '', None, ''), ('Book_Name', b'varchar(30)', 'YES', '', None, ''), ('Book_Edition', b'varchar(30)', 'YES', '', None, ''), ('Book_Author', b'varchar(30)', 'YES', '', None, ''), ('No_Of_Copies', b'int', 'YES', '', None, ''), ('is_Available', b'tinyint(1)', 'YES', '', None, ''), ('Book_Dept', b'varchar(30)', 'YES', '', None, ''), ('Book_ISBN', b'varchar(30)', 'YES', '', None, '')]\n"
     ]
    }
   ],
   "source": [
    "# --> Alter/Change Column Datatype.\n",
    "\n",
    "# Basic Syntax:\n",
    "\n",
    "# ALTER TABLE table_name\n",
    "#   MODIFY column_name column_definition\n",
    "#     [ FIRST | AFTER column_name ],\n",
    "#   MODIFY column_name column_definition\n",
    "#     [ FIRST | AFTER column_name ],\n",
    "#   ...\n",
    "# ;\n",
    "\n",
    "MySQL_Query_ALTER_Table_DataType = \"ALTER TABLE Table_Created_From_Python MODIFY Book_Id varchar(10)\"\n",
    "\n",
    "\n",
    "Python_MySQL_Conn_Cursor.execute(MySQL_Query_ALTER_Table_DataType)\n",
    "\n",
    "MySQL_Query_Describe_Table = \"DESC Table_Created_From_Python\"\n",
    "\n",
    "Python_MySQL_Conn_Cursor.execute(MySQL_Query_Describe_Table)\n",
    "\n",
    "print(Python_MySQL_Conn_Cursor.fetchall()) "
   ]
  },
  {
   "cell_type": "code",
   "execution_count": 71,
   "metadata": {},
   "outputs": [
    {
     "name": "stdout",
     "output_type": "stream",
     "text": [
      "[('Book_Id', b'varchar(20)', 'YES', '', None, ''), ('Book_Name', b'varchar(30)', 'YES', '', None, ''), ('Book_Edition', b'varchar(30)', 'YES', '', None, ''), ('Book_Author', b'varchar(30)', 'YES', '', None, ''), ('No_Of_Copies', b'int', 'YES', '', None, ''), ('is_Available', b'tinyint(1)', 'YES', '', None, ''), ('Book_Dept', b'varchar(30)', 'YES', '', None, ''), ('Book_ISBN', b'varchar(30)', 'YES', '', None, '')]\n"
     ]
    }
   ],
   "source": [
    "# --> Alter/Change Column Datatype Size.\n",
    "\n",
    "MySQL_Query_ALTER_Table_DataType_Size = \"ALTER TABLE Table_Created_From_Python_1 MODIFY Book_Id varchar(20)\"\n",
    "\n",
    "\n",
    "Python_MySQL_Conn_Cursor.execute(MySQL_Query_ALTER_Table_DataType_Size)\n",
    "\n",
    "MySQL_Query_Describe_Table = \"DESC Table_Created_From_Python_1\"\n",
    "\n",
    "Python_MySQL_Conn_Cursor.execute(MySQL_Query_Describe_Table)\n",
    "\n",
    "print(Python_MySQL_Conn_Cursor.fetchall()) \n"
   ]
  },
  {
   "cell_type": "code",
   "execution_count": 76,
   "metadata": {},
   "outputs": [
    {
     "name": "stdout",
     "output_type": "stream",
     "text": [
      "[('Table_Created_From_Python_1',), ('Table_Renamed_From_Python',)]\n"
     ]
    }
   ],
   "source": [
    "# --> Alter/Change Table/Column Name.\n",
    "\n",
    "# Basic Syntax For Column Rename:\n",
    "\n",
    "# Basic Syntax For Table Rename:\n",
    "\n",
    "# ALTER TABLE table_name\n",
    "#   RENAME TO new_table_name;\n",
    "\n",
    "# MySQL_Query_ALTER_Table_Rename = \"ALTER TABLE Table_Created_From_Python RENAME TO Table_Renamed_From_Python\"\n",
    "\n",
    "\n",
    "# Python_MySQL_Conn_Cursor.execute(MySQL_Query_ALTER_Table_Rename)\n",
    "\n",
    "MySQL_Query_Show_Table = \"SHOW TABLES\"\n",
    "\n",
    "Python_MySQL_Conn_Cursor.execute(MySQL_Query_Show_Table)\n",
    "\n",
    "print(Python_MySQL_Conn_Cursor.fetchall())   "
   ]
  },
  {
   "cell_type": "code",
   "execution_count": 78,
   "metadata": {},
   "outputs": [
    {
     "name": "stdout",
     "output_type": "stream",
     "text": [
      "[('Book_Id_Renamed', b'varchar(20)', 'YES', '', None, ''), ('Book_Name', b'varchar(30)', 'YES', '', None, ''), ('Book_Edition', b'varchar(30)', 'YES', '', None, ''), ('Book_Author', b'varchar(30)', 'YES', '', None, ''), ('No_Of_Copies', b'int', 'YES', '', None, ''), ('is_Available', b'tinyint(1)', 'YES', '', None, ''), ('Book_Dept', b'varchar(30)', 'YES', '', None, ''), ('Book_ISBN', b'varchar(30)', 'YES', '', None, '')]\n"
     ]
    }
   ],
   "source": [
    "# ALTER TABLE table_name\n",
    "#   CHANGE COLUMN old_name new_name \n",
    "#     column_definition\n",
    "#     [ FIRST | AFTER column_name ]\n",
    "\n",
    "\n",
    "MySQL_Query_ALTER_Table_Column_Rename = \"ALTER TABLE Table_Created_From_Python_1 CHANGE COLUMN Book_Id Book_Id_Renamed varchar(20)\"\n",
    "\n",
    "\n",
    "Python_MySQL_Conn_Cursor.execute(MySQL_Query_ALTER_Table_Column_Rename)\n",
    "\n",
    "MySQL_Query_Describe_Table = \"DESC Table_Created_From_Python_1\"\n",
    "\n",
    "Python_MySQL_Conn_Cursor.execute(MySQL_Query_Describe_Table)\n",
    "\n",
    "print(Python_MySQL_Conn_Cursor.fetchall()) \n"
   ]
  },
  {
   "cell_type": "code",
   "execution_count": 89,
   "metadata": {},
   "outputs": [
    {
     "name": "stdout",
     "output_type": "stream",
     "text": [
      "[('Book_Id_Renamed', b'varchar(20)', 'YES', '', None, ''), ('New_Added_column_1', b'varchar(20)', 'YES', '', None, ''), ('Book_Name', b'varchar(30)', 'YES', '', None, ''), ('Book_Edition', b'varchar(30)', 'YES', '', None, ''), ('Book_Author', b'varchar(30)', 'YES', '', None, ''), ('No_Of_Copies', b'int', 'YES', '', None, ''), ('is_Available', b'tinyint(1)', 'YES', '', None, ''), ('Book_Dept', b'varchar(30)', 'YES', '', None, ''), ('Book_ISBN', b'varchar(30)', 'YES', '', None, ''), ('New_Added_column', b'varchar(20)', 'YES', '', None, '')]\n"
     ]
    }
   ],
   "source": [
    "# --> Add a New Column.\n",
    "\n",
    "# Add a Single Column.\n",
    "\n",
    "# ALTER TABLE table_name\n",
    "#   ADD COLUMN new_column_name column_definition\n",
    "#     [ FIRST | AFTER column_name ];\n",
    "\n",
    "# By Default Adds New Column as Last Column.\n",
    "\n",
    "MySQL_Query_ALTER_Table_Column_Add = \"ALTER TABLE Table_Created_From_Python_1 ADD New_Added_column_1 varchar(20) AFTER Book_Id_Renamed\"\n",
    "\n",
    "\n",
    "Python_MySQL_Conn_Cursor.execute(MySQL_Query_ALTER_Table_Column_Add)\n",
    "\n",
    "MySQL_Query_Describe_Table = \"DESC Table_Created_From_Python_1\"\n",
    "\n",
    "Python_MySQL_Conn_Cursor.execute(MySQL_Query_Describe_Table)\n",
    "\n",
    "print(Python_MySQL_Conn_Cursor.fetchall()) "
   ]
  },
  {
   "cell_type": "code",
   "execution_count": 96,
   "metadata": {},
   "outputs": [
    {
     "name": "stdout",
     "output_type": "stream",
     "text": [
      "[('Book_Id_Renamed', b'varchar(20)', 'YES', '', None, ''), ('New_Added_column_3', b'varchar(20)', 'YES', '', None, ''), ('New_Added_column_1', b'varchar(20)', 'YES', '', None, ''), ('Book_Name', b'varchar(30)', 'YES', '', None, ''), ('Book_Edition', b'varchar(30)', 'YES', '', None, ''), ('Book_Author', b'varchar(30)', 'YES', '', None, ''), ('No_Of_Copies', b'int', 'YES', '', None, ''), ('is_Available', b'tinyint(1)', 'YES', '', None, ''), ('Book_Dept', b'varchar(30)', 'YES', '', None, ''), ('New_Added_column_6', b'int', 'YES', '', None, ''), ('Book_ISBN', b'varchar(30)', 'YES', '', None, ''), ('New_Added_column', b'varchar(20)', 'YES', '', None, '')]\n"
     ]
    }
   ],
   "source": [
    "\n",
    "# Add a Multiple Columns.\n",
    "\n",
    "# ALTER TABLE table_name\n",
    "#   ADD COLUMN new_column_name column_definition\n",
    "#     [ FIRST | AFTER column_name ],\n",
    "#   ADD COLUMN new_column_name column_definition\n",
    "#     [ FIRST | AFTER column_name ],\n",
    "#   ...\n",
    "# ;\n",
    "\n",
    "MySQL_Query_ALTER_Table_Columns_Add = \"ALTER TABLE Table_Created_From_Python_1 ADD COLUMN New_Added_column_3 varchar(20) AFTER Book_Id_Renamed,ADD COLUMN New_Added_column_6 int AFTER Book_Dept\"\n",
    "\n",
    "\n",
    "Python_MySQL_Conn_Cursor.execute(MySQL_Query_ALTER_Table_Columns_Add)\n",
    "\n",
    "MySQL_Query_Describe_Table = \"DESC Table_Created_From_Python_1\"\n",
    "\n",
    "Python_MySQL_Conn_Cursor.execute(MySQL_Query_Describe_Table)\n",
    "\n",
    "print(Python_MySQL_Conn_Cursor.fetchall()) "
   ]
  },
  {
   "cell_type": "code",
   "execution_count": 97,
   "metadata": {},
   "outputs": [
    {
     "name": "stdout",
     "output_type": "stream",
     "text": [
      "[('Book_Id_Renamed', b'varchar(20)', 'YES', '', None, ''), ('New_Added_column_3', b'varchar(20)', 'YES', '', None, ''), ('Book_Name', b'varchar(30)', 'YES', '', None, ''), ('Book_Edition', b'varchar(30)', 'YES', '', None, ''), ('Book_Author', b'varchar(30)', 'YES', '', None, ''), ('No_Of_Copies', b'int', 'YES', '', None, ''), ('is_Available', b'tinyint(1)', 'YES', '', None, ''), ('Book_Dept', b'varchar(30)', 'YES', '', None, ''), ('New_Added_column_6', b'int', 'YES', '', None, ''), ('Book_ISBN', b'varchar(30)', 'YES', '', None, ''), ('New_Added_column', b'varchar(20)', 'YES', '', None, '')]\n"
     ]
    }
   ],
   "source": [
    "# --> Drop a Column.\n",
    "\n",
    "# Drops a Single Column.\n",
    "# ALTER TABLE table_name\n",
    "#   DROP COLUMN column_name;\n",
    "\n",
    "\n",
    "MySQL_Query_ALTER_Table_Column_Drop = \"ALTER TABLE Table_Created_From_Python_1 DROP COLUMN New_Added_column_1\"\n",
    "\n",
    "\n",
    "Python_MySQL_Conn_Cursor.execute(MySQL_Query_ALTER_Table_Column_Drop)\n",
    "\n",
    "MySQL_Query_Describe_Table = \"DESC Table_Created_From_Python_1\"\n",
    "\n",
    "Python_MySQL_Conn_Cursor.execute(MySQL_Query_Describe_Table)\n",
    "\n",
    "print(Python_MySQL_Conn_Cursor.fetchall()) "
   ]
  },
  {
   "cell_type": "code",
   "execution_count": 99,
   "metadata": {},
   "outputs": [
    {
     "name": "stdout",
     "output_type": "stream",
     "text": [
      "[('Book_Id_Renamed', b'varchar(20)', 'YES', '', None, ''), ('Book_Name', b'varchar(30)', 'YES', '', None, ''), ('Book_Edition', b'varchar(30)', 'YES', '', None, ''), ('Book_Author', b'varchar(30)', 'YES', '', None, ''), ('No_Of_Copies', b'int', 'YES', '', None, ''), ('is_Available', b'tinyint(1)', 'YES', '', None, ''), ('Book_Dept', b'varchar(30)', 'YES', '', None, ''), ('Book_ISBN', b'varchar(30)', 'YES', '', None, ''), ('New_Added_column', b'varchar(20)', 'YES', '', None, '')]\n"
     ]
    }
   ],
   "source": [
    "\n",
    "# Drops Multiple Columns.\n",
    "\n",
    "# ALTER TABLE table_name\n",
    "#   DROP COLUMN new_column_name column_definition\n",
    "#     [ FIRST | AFTER column_name ],\n",
    "#   DROP COLUMN new_column_name column_definition\n",
    "#     [ FIRST | AFTER column_name ],\n",
    "#   ...\n",
    "# ;\n",
    "\n",
    "MySQL_Query_ALTER_Table_Columns_Drop = \"ALTER TABLE Table_Created_From_Python_1 DROP COLUMN New_Added_column_3,DROP COLUMN New_Added_column_6\"\n",
    "\n",
    "\n",
    "Python_MySQL_Conn_Cursor.execute(MySQL_Query_ALTER_Table_Columns_Drop)\n",
    "\n",
    "MySQL_Query_Describe_Table = \"DESC Table_Created_From_Python_1\"\n",
    "\n",
    "Python_MySQL_Conn_Cursor.execute(MySQL_Query_Describe_Table)\n",
    "\n",
    "print(Python_MySQL_Conn_Cursor.fetchall()) "
   ]
  }
 ],
 "metadata": {
  "kernelspec": {
   "display_name": "Python 3",
   "language": "python",
   "name": "python3"
  },
  "language_info": {
   "codemirror_mode": {
    "name": "ipython",
    "version": 3
   },
   "file_extension": ".py",
   "mimetype": "text/x-python",
   "name": "python",
   "nbconvert_exporter": "python",
   "pygments_lexer": "ipython3",
   "version": "3.8.5"
  }
 },
 "nbformat": 4,
 "nbformat_minor": 4
}
